{
  "nbformat": 4,
  "nbformat_minor": 0,
  "metadata": {
    "colab": {
      "name": "Week_2_Assessment.ipynb",
      "provenance": [],
      "authorship_tag": "ABX9TyN06ucNfzOpmzKCg4FaUj4Q",
      "include_colab_link": true
    },
    "kernelspec": {
      "name": "python3",
      "display_name": "Python 3"
    }
  },
  "cells": [
    {
      "cell_type": "markdown",
      "metadata": {
        "id": "view-in-github",
        "colab_type": "text"
      },
      "source": [
        "<a href=\"https://colab.research.google.com/github/C3Suryansu/Data-Science-AI/blob/main/Week%202%20-%20Numpy/Week_2_Assessment.ipynb\" target=\"_parent\"><img src=\"https://colab.research.google.com/assets/colab-badge.svg\" alt=\"Open In Colab\"/></a>"
      ]
    },
    {
      "cell_type": "markdown",
      "metadata": {
        "id": "2QwjmEPDH3_y"
      },
      "source": [
        "Question 1 :- Your first task will be to create two numpy arrays, one with the help of linspace and another with the help of arange. \n",
        "\n",
        "The first array will be an array of length 20, having multiples of 2, starting from 20.\n",
        "The second array will be an array of length 20, having multiples of 3, starting from 21, of type integer.\n",
        "\n",
        "Note :- There shouldn't be elements repeated in any of the lists, that is, all the elements should be unique."
      ]
    },
    {
      "cell_type": "code",
      "metadata": {
        "id": "sJ5eIvVVRrZo"
      },
      "source": [
        ""
      ],
      "execution_count": null,
      "outputs": []
    },
    {
      "cell_type": "markdown",
      "metadata": {
        "id": "aFqGCGCvIJN-"
      },
      "source": [
        "Question 2:- From the two numpy arrays above, write a simple python script to find the common elements between both the arrays."
      ]
    },
    {
      "cell_type": "code",
      "metadata": {
        "id": "7UhN48BeOzAT"
      },
      "source": [
        ""
      ],
      "execution_count": null,
      "outputs": []
    },
    {
      "cell_type": "markdown",
      "metadata": {
        "id": "gejiKP9KLKTH"
      },
      "source": [
        "Question 3 - Now, since you have two arrays of equal length, using numpy, vertically stack both the arrays so as to form a 2D array of dimensions (2, 20)"
      ]
    },
    {
      "cell_type": "code",
      "metadata": {
        "id": "7B_jEG3NOkU6"
      },
      "source": [
        ""
      ],
      "execution_count": null,
      "outputs": []
    },
    {
      "cell_type": "markdown",
      "metadata": {
        "id": "ZPApc_xEO1LJ"
      },
      "source": [
        "Question 4 :- Reshape the 2D array formed in Question 3, into a new array of shape (8, 5)"
      ]
    },
    {
      "cell_type": "code",
      "metadata": {
        "id": "rP3QYmG-Q4l9"
      },
      "source": [
        ""
      ],
      "execution_count": null,
      "outputs": []
    },
    {
      "cell_type": "markdown",
      "metadata": {
        "id": "ejwRuWpPQqoA"
      },
      "source": [
        "Question 5:- Now, using the new array of shape (8, 5), distribute this array into 8 different 1D arrays representing the 8 rows of the 2D array, and then using numpy, compute the mean of each row."
      ]
    },
    {
      "cell_type": "code",
      "metadata": {
        "id": "bitcY7AiRosp"
      },
      "source": [
        ""
      ],
      "execution_count": null,
      "outputs": []
    },
    {
      "cell_type": "markdown",
      "metadata": {
        "id": "JTr5HPJbRfVz"
      },
      "source": [
        "Question 6:- Finally, find the mean and median of the 2D array using numpy, and print the absolute difference between them."
      ]
    },
    {
      "cell_type": "code",
      "metadata": {
        "id": "4U9k5AykQ3an"
      },
      "source": [
        ""
      ],
      "execution_count": null,
      "outputs": []
    }
  ]
}