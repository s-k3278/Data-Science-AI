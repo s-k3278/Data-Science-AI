{
 "cells": [
  {
   "cell_type": "markdown",
   "metadata": {
    "colab_type": "text",
    "id": "view-in-github"
   },
   "source": [
    "<a href=\"https://colab.research.google.com/github/atulsnjena/Data-Science-AI/blob/main/Week%202%20-%20Numpy/Week_2_Surya_Narayan_Jena.ipynb\" target=\"_parent\"><img src=\"https://colab.research.google.com/assets/colab-badge.svg\" alt=\"Open In Colab\"/></a>"
   ]
  },
  {
   "cell_type": "markdown",
   "metadata": {
    "id": "2QwjmEPDH3_y"
   },
   "source": [
    "Question 1 :- Your first task will be to create two numpy arrays, one with the help of linspace and another with the help of arange. \n",
    "\n",
    "The first array will be an array of length 20, having multiples of 2, starting from 20.\n",
    "The second array will be an array of length 20, having multiples of 3, starting from 21, of type integer.\n",
    "\n",
    "Note :- There shouldn't be elements repeated in any of the lists, that is, all the elements should be unique."
   ]
  },
  {
   "cell_type": "code",
   "execution_count": 1,
   "metadata": {
    "id": "sJ5eIvVVRrZo"
   },
   "outputs": [
    {
     "name": "stdout",
     "output_type": "stream",
     "text": [
      "[20 22 24 26 28 30 32 34 36 38 40 42 44 46 48 50 52 54 56 58] \n",
      " [21 24 27 30 33 36 39 42 45 48 51 54 57 60 63 66 69 72 75 78]\n"
     ]
    }
   ],
   "source": [
    "import numpy as n\n",
    "a=n.arange(20,60,2)\n",
    "b=n.arange(21,81,3)\n",
    "print(a,\"\\n\",b)"
   ]
  },
  {
   "cell_type": "markdown",
   "metadata": {
    "id": "aFqGCGCvIJN-"
   },
   "source": [
    "Question 2:- From the two numpy arrays above, write a simple python script to find the common elements between both the arrays."
   ]
  },
  {
   "cell_type": "code",
   "execution_count": 2,
   "metadata": {
    "id": "7UhN48BeOzAT"
   },
   "outputs": [
    {
     "name": "stdout",
     "output_type": "stream",
     "text": [
      "[24 30 36 42 48 54]\n"
     ]
    }
   ],
   "source": [
    "c=n.intersect1d(a,b)\n",
    "print(c)"
   ]
  },
  {
   "cell_type": "markdown",
   "metadata": {
    "id": "gejiKP9KLKTH"
   },
   "source": [
    "Question 3 - Now, since you have two arrays of equal length, using numpy, vertically stack both the arrays so as to form a 2D array of dimensions (2, 20)"
   ]
  },
  {
   "cell_type": "code",
   "execution_count": 3,
   "metadata": {
    "id": "7B_jEG3NOkU6"
   },
   "outputs": [
    {
     "name": "stdout",
     "output_type": "stream",
     "text": [
      "[[20 22 24 26 28 30 32 34 36 38 40 42 44 46 48 50 52 54 56 58]\n",
      " [21 24 27 30 33 36 39 42 45 48 51 54 57 60 63 66 69 72 75 78]]\n"
     ]
    }
   ],
   "source": [
    "d=n.vstack((a,b))\n",
    "print(d)"
   ]
  },
  {
   "cell_type": "markdown",
   "metadata": {
    "id": "ZPApc_xEO1LJ"
   },
   "source": [
    "Question 4 :- Reshape the 2D array formed in Question 3, into a new array of shape (8, 5)"
   ]
  },
  {
   "cell_type": "code",
   "execution_count": 4,
   "metadata": {
    "id": "rP3QYmG-Q4l9"
   },
   "outputs": [
    {
     "name": "stdout",
     "output_type": "stream",
     "text": [
      "[[20 22 24 26 28]\n",
      " [30 32 34 36 38]\n",
      " [40 42 44 46 48]\n",
      " [50 52 54 56 58]\n",
      " [21 24 27 30 33]\n",
      " [36 39 42 45 48]\n",
      " [51 54 57 60 63]\n",
      " [66 69 72 75 78]]\n"
     ]
    }
   ],
   "source": [
    "e=d.reshape(8,5)\n",
    "print(e)"
   ]
  },
  {
   "cell_type": "markdown",
   "metadata": {
    "id": "ejwRuWpPQqoA"
   },
   "source": [
    "Question 5:- Now, using the new array of shape (8, 5), distribute this array into 8 different 1D arrays representing the 8 rows of the 2D array, and then using numpy, compute the mean of each row."
   ]
  },
  {
   "cell_type": "code",
   "execution_count": 5,
   "metadata": {
    "id": "bitcY7AiRosp"
   },
   "outputs": [
    {
     "name": "stdout",
     "output_type": "stream",
     "text": [
      "mean of  [20 22 24 26 28]  is  24.0\n",
      "mean of  [30 32 34 36 38]  is  34.0\n",
      "mean of  [40 42 44 46 48]  is  44.0\n",
      "mean of  [50 52 54 56 58]  is  54.0\n",
      "mean of  [21 24 27 30 33]  is  27.0\n",
      "mean of  [36 39 42 45 48]  is  42.0\n",
      "mean of  [51 54 57 60 63]  is  57.0\n",
      "mean of  [66 69 72 75 78]  is  72.0\n"
     ]
    }
   ],
   "source": [
    "for i in e:\n",
    "    print(\"mean of \",i,\" is \",n.mean(i))"
   ]
  },
  {
   "cell_type": "markdown",
   "metadata": {
    "id": "JTr5HPJbRfVz"
   },
   "source": [
    "Question 6:- Finally, find the mean and median of the 2D array using numpy, and print the absolute difference between them."
   ]
  },
  {
   "cell_type": "code",
   "execution_count": 6,
   "metadata": {
    "id": "4U9k5AykQ3an"
   },
   "outputs": [
    {
     "name": "stdout",
     "output_type": "stream",
     "text": [
      "1st 2D array\n",
      "0.0\n",
      "0.0\n",
      "2nd 2D array\n",
      "0.0\n",
      "0.0\n",
      "0.0\n",
      "0.0\n",
      "0.0\n",
      "0.0\n",
      "0.0\n",
      "0.0\n"
     ]
    }
   ],
   "source": [
    "print(\"1st 2D array\")\n",
    "for i in d:\n",
    "    print(n.absolute(n.median(i)-n.mean(i)))\n",
    "print(\"2nd 2D array\")\n",
    "for i in e:\n",
    "    print(n.absolute(n.median(i)-n.mean(i)))"
   ]
  }
 ],
 "metadata": {
  "colab": {
   "include_colab_link": true,
   "name": "Week_2_Surya Narayan Jena.ipynb",
   "provenance": []
  },
  "kernelspec": {
   "display_name": "Python 3",
   "language": "python",
   "name": "python3"
  },
  "language_info": {
   "codemirror_mode": {
    "name": "ipython",
    "version": 3
   },
   "file_extension": ".py",
   "mimetype": "text/x-python",
   "name": "python",
   "nbconvert_exporter": "python",
   "pygments_lexer": "ipython3",
   "version": "3.8.3"
  }
 },
 "nbformat": 4,
 "nbformat_minor": 1
}
