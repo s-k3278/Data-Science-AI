{
  "nbformat": 4,
  "nbformat_minor": 0,
  "metadata": {
    "colab": {
      "name": " Week_2_KrantiKumarChoudhury.ipynb",
      "provenance": [],
      "collapsed_sections": []
    },
    "kernelspec": {
      "name": "python3",
      "display_name": "Python 3"
    }
  },
  "cells": [
    {
      "cell_type": "markdown",
      "metadata": {
        "id": "2QwjmEPDH3_y"
      },
      "source": [
        "Question 1 :- Your first task will be to create two numpy arrays, one with the help of linspace and another with the help of arange. \n",
        "\n",
        "The first array will be an array of length 20, having multiples of 2, starting from 20.\n",
        "The second array will be an array of length 20, having multiples of 3, starting from 21, of type integer.\n",
        "\n",
        "Note :- There shouldn't be elements repeated in any of the lists, that is, all the elements should be unique."
      ]
    },
    {
      "cell_type": "code",
      "metadata": {
        "id": "sJ5eIvVVRrZo",
        "outputId": "35855061-afb9-47ce-8b97-5e2a95b45a11",
        "colab": {
          "base_uri": "https://localhost:8080/"
        }
      },
      "source": [
        "import numpy as np\n",
        "arr1=np.linspace(20,60,20,dtype=int,endpoint=False)\n",
        "arr2=np.arange(21,81,3,dtype=int)\n",
        "#print(len(arr1))\n",
        "#print(len(arr2))\n",
        "print(\"Multiples of 2:\",arr1)\n",
        "print(\"Multiples of 3:\",arr2)"
      ],
      "execution_count": null,
      "outputs": [
        {
          "output_type": "stream",
          "text": [
            "Multiples of 2: [20 22 24 26 28 30 32 34 36 38 40 42 44 46 48 50 52 54 56 58]\n",
            "Multiples of 3: [21 24 27 30 33 36 39 42 45 48 51 54 57 60 63 66 69 72 75 78]\n"
          ],
          "name": "stdout"
        }
      ]
    },
    {
      "cell_type": "markdown",
      "metadata": {
        "id": "aFqGCGCvIJN-"
      },
      "source": [
        "Question 2:- From the two numpy arrays above, write a simple python script to find the common elements between both the arrays."
      ]
    },
    {
      "cell_type": "code",
      "metadata": {
        "id": "7UhN48BeOzAT",
        "outputId": "793c0acb-d65a-44b7-d311-8642265ea347",
        "colab": {
          "base_uri": "https://localhost:8080/"
        }
      },
      "source": [
        "print(np.intersect1d(arr1,arr2))"
      ],
      "execution_count": null,
      "outputs": [
        {
          "output_type": "stream",
          "text": [
            "[24 30 36 42 48 54]\n"
          ],
          "name": "stdout"
        }
      ]
    },
    {
      "cell_type": "markdown",
      "metadata": {
        "id": "gejiKP9KLKTH"
      },
      "source": [
        "Question 3 - Now, since you have two arrays of equal length, using numpy, vertically stack both the arrays so as to form a 2D array of dimensions (2, 20)"
      ]
    },
    {
      "cell_type": "code",
      "metadata": {
        "id": "7B_jEG3NOkU6",
        "outputId": "e89f56c1-a293-47ac-d7c2-5ed9561bf3da",
        "colab": {
          "base_uri": "https://localhost:8080/"
        }
      },
      "source": [
        "output=np.vstack((arr1,arr2))\n",
        "print(output)"
      ],
      "execution_count": null,
      "outputs": [
        {
          "output_type": "stream",
          "text": [
            "[[20 22 24 26 28 30 32 34 36 38 40 42 44 46 48 50 52 54 56 58]\n",
            " [21 24 27 30 33 36 39 42 45 48 51 54 57 60 63 66 69 72 75 78]]\n"
          ],
          "name": "stdout"
        }
      ]
    },
    {
      "cell_type": "markdown",
      "metadata": {
        "id": "ZPApc_xEO1LJ"
      },
      "source": [
        "Question 4 :- Reshape the 2D array formed in Question 3, into a new array of shape (8, 5)"
      ]
    },
    {
      "cell_type": "code",
      "metadata": {
        "id": "rP3QYmG-Q4l9",
        "outputId": "928d9593-3e3e-4468-9cfb-c56a5f9e9128",
        "colab": {
          "base_uri": "https://localhost:8080/"
        }
      },
      "source": [
        "output1=output.reshape(8,5)\n",
        "print(output1)\n"
      ],
      "execution_count": null,
      "outputs": [
        {
          "output_type": "stream",
          "text": [
            "[[20 22 24 26 28]\n",
            " [30 32 34 36 38]\n",
            " [40 42 44 46 48]\n",
            " [50 52 54 56 58]\n",
            " [21 24 27 30 33]\n",
            " [36 39 42 45 48]\n",
            " [51 54 57 60 63]\n",
            " [66 69 72 75 78]]\n"
          ],
          "name": "stdout"
        }
      ]
    },
    {
      "cell_type": "markdown",
      "metadata": {
        "id": "ejwRuWpPQqoA"
      },
      "source": [
        "Question 5:- Now, using the new array of shape (8, 5), distribute this array into 8 different 1D arrays representing the 8 rows of the 2D array, and then using numpy, compute the mean of each row."
      ]
    },
    {
      "cell_type": "code",
      "metadata": {
        "id": "bitcY7AiRosp",
        "outputId": "1f67c0d2-5744-4f02-9dbf-7e96eaab28d5",
        "colab": {
          "base_uri": "https://localhost:8080/"
        }
      },
      "source": [
        "for i in range(len(output1)):\n",
        "  print(output1[i])\n",
        "  print(np.mean(output1[i]))\n"
      ],
      "execution_count": 37,
      "outputs": [
        {
          "output_type": "stream",
          "text": [
            "[20 22 24 26 28]\n",
            "24.0\n",
            "[30 32 34 36 38]\n",
            "34.0\n",
            "[40 42 44 46 48]\n",
            "44.0\n",
            "[50 52 54 56 58]\n",
            "54.0\n",
            "[21 24 27 30 33]\n",
            "27.0\n",
            "[36 39 42 45 48]\n",
            "42.0\n",
            "[51 54 57 60 63]\n",
            "57.0\n",
            "[66 69 72 75 78]\n",
            "72.0\n"
          ],
          "name": "stdout"
        }
      ]
    },
    {
      "cell_type": "markdown",
      "metadata": {
        "id": "JTr5HPJbRfVz"
      },
      "source": [
        "Question 6:- Finally, find the mean and median of the 2D array using numpy, and print the absolute difference between them."
      ]
    },
    {
      "cell_type": "code",
      "metadata": {
        "id": "4U9k5AykQ3an",
        "outputId": "0c46b88b-0e2b-4cf6-999f-bb76f9a8ef90",
        "colab": {
          "base_uri": "https://localhost:8080/"
        }
      },
      "source": [
        "Mean=np.mean(output1)\n",
        "Median=np.median(output1)\n",
        "print(Mean)\n",
        "print(Median)\n",
        "print(np.absolute(Mean-Median))"
      ],
      "execution_count": 39,
      "outputs": [
        {
          "output_type": "stream",
          "text": [
            "44.25\n",
            "43.0\n",
            "1.25\n"
          ],
          "name": "stdout"
        }
      ]
    }
  ]
}
