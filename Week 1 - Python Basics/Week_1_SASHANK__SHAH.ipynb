{
  "nbformat": 4,
  "nbformat_minor": 0,
  "metadata": {
    "colab": {
      "name": "Week_1_SASHANK _SHAH.ipynb",
      "provenance": [],
      "collapsed_sections": [],
      "toc_visible": true
    },
    "kernelspec": {
      "name": "python3",
      "display_name": "Python 3"
    }
  },
  "cells": [
    {
      "cell_type": "markdown",
      "metadata": {
        "id": "cR-dxFx1hb8h"
      },
      "source": [
        "#Using file handling, extract and read data from the data.txt file, and store that in a list."
      ]
    },
    {
      "cell_type": "code",
      "metadata": {
        "id": "qefHJlTOd8K2",
        "outputId": "cd6a6e97-cdbd-40af-9732-166f14956f87",
        "colab": {
          "base_uri": "https://localhost:8080/"
        }
      },
      "source": [
        "fh = open(\"data.txt\")\n",
        "for line in fh:\n",
        "  if len(line) < 3 :  # check line by line, if none lines are left skip\n",
        "    continue\n",
        "  line = line.split() # a list of data\n",
        "print(line)             #Answer to the question is done.\n",
        "\n",
        "\n",
        "\n",
        "\n",
        "\n"
      ],
      "execution_count": null,
      "outputs": [
        {
          "output_type": "stream",
          "text": [
            "['3', '4', '7', '9', '8', '10', '24', '985', '346', '793', '13', '47', '84', '102', '735', '1']\n"
          ],
          "name": "stdout"
        }
      ]
    },
    {
      "cell_type": "markdown",
      "metadata": {
        "id": "caXry11fhmWY"
      },
      "source": [
        "Q1 - Find out the mean and median of the data you extracted and stored in the list, without using any libraries."
      ]
    },
    {
      "cell_type": "code",
      "metadata": {
        "id": "YWsE7Wwyh1zV",
        "outputId": "e6ef73b6-bbe4-4be0-9652-7efb24dc4d29",
        "colab": {
          "base_uri": "https://localhost:8080/"
        }
      },
      "source": [
        " \n",
        "# conersion of list values to int and sorting the list \n",
        "lst = list()\n",
        "total = 0\n",
        "count = 0\n",
        "for num in line:      #looping through the line-list to get each string\n",
        "  temp = int(num)       #conversion of string to int\n",
        "  total = total + temp     #adding numbers one by one\n",
        "  count = count + 1\n",
        "  lst.append(temp)            #adding num by num to list\n",
        "lst.sort()                              #sorting  \n",
        "mean = total/count \n",
        "print(\"Calculating mean.....\\n Mean:\",mean )               #mean is found\n",
        "print(\"Sorting ascending order for Median...\\n Sorted list = \", lst)\n",
        "if (count % 2) == 0:   #if count is even\n",
        "  count = count//2\n",
        "  median = (lst[count-1] + lst[count])/2\n",
        "  print(\"Calculating median ........\\n Median: \", median)\n",
        "else:                   #if count is odd\n",
        "  count = count - 1\n",
        "  median = lst[(count//2)]\n",
        "  print(median)\n",
        "  print(\"Calculating median ........\\n Median: \", median)"
      ],
      "execution_count": null,
      "outputs": [
        {
          "output_type": "stream",
          "text": [
            "Calculating mean.....\n",
            " Mean: 198.1875\n",
            "Sorting ascending order for Median...\n",
            " Sorted list =  [1, 3, 4, 7, 8, 9, 10, 13, 24, 47, 84, 102, 346, 735, 793, 985]\n",
            "Calculating median ........\n",
            " Median:  18.5\n"
          ],
          "name": "stdout"
        }
      ]
    },
    {
      "cell_type": "markdown",
      "metadata": {
        "id": "tupwxozth2l4"
      },
      "source": [
        "Q2 - Divide the list into 2 separate lists, based on the median. The first list will have all numbers less than the median, and the 2nd list will have all the numbers greater than the median, including the median. Use list slicing to achieve this."
      ]
    },
    {
      "cell_type": "code",
      "metadata": {
        "id": "W3G-21gf8iFi",
        "outputId": "cc5ca2ba-eb14-4f69-9a8e-afc9d7a7b3d1",
        "colab": {
          "base_uri": "https://localhost:8080/"
        }
      },
      "source": [
        "lstLess = lst[:8]\n",
        "lstMore = lst[8:]\n",
        "lstMore.append(median)\n",
        "lstMore.sort() \n",
        "print (lstLess)\n",
        "print (lstMore)"
      ],
      "execution_count": null,
      "outputs": [
        {
          "output_type": "stream",
          "text": [
            "[1, 3, 4, 7, 8, 9, 10, 13]\n",
            "[18.5, 24, 47, 84, 102, 346, 735, 793, 985]\n"
          ],
          "name": "stdout"
        }
      ]
    },
    {
      "cell_type": "markdown",
      "metadata": {
        "id": "lvyc83TikMqI"
      },
      "source": [
        "###Given below is a dictionary containing the details of people taking Covid-19 test."
      ]
    },
    {
      "cell_type": "code",
      "metadata": {
        "id": "Yri_6tcTkMCY",
        "outputId": "e2ca7c4b-fa93-4379-81d2-445e41b7ff81",
        "colab": {
          "base_uri": "https://localhost:8080/"
        }
      },
      "source": [
        "\"\"\"\n",
        "Key - name of the patient\n",
        "Values - array of \n",
        "                1 - Whether the patient has covid-19 or not\n",
        "                2 - The patient's age\n",
        "                3 - The temperature of the patient in Fahrenheit Scale\n",
        "\"\"\"\n",
        "details = {'Ratchel' : ['No', 24, 97], 'Shrek' : ['No', 31, 99], 'Gillard' : ['No', 21, 98], 'Rea' : ['Yes', 23, 102], 'Adam': ['No', 67, 95]}\n",
        "details"
      ],
      "execution_count": null,
      "outputs": [
        {
          "output_type": "execute_result",
          "data": {
            "text/plain": [
              "{'Adam': ['No', 67, 95],\n",
              " 'Gillard': ['No', 21, 98],\n",
              " 'Ratchel': ['No', 24, 97],\n",
              " 'Rea': ['Yes', 23, 102],\n",
              " 'Shrek': ['No', 31, 99]}"
            ]
          },
          "metadata": {
            "tags": []
          },
          "execution_count": 13
        }
      ]
    },
    {
      "cell_type": "markdown",
      "metadata": {
        "id": "zzyTdWgJl7nq"
      },
      "source": [
        "Q3 - From the above dictionary, list out all the people who don't have Covid-19, as well as their age lies in the range of 20 - 30 years old"
      ]
    },
    {
      "cell_type": "code",
      "metadata": {
        "id": "NHIlpRbdlhlP",
        "outputId": "df248697-93b6-495b-809d-6faa04674603",
        "colab": {
          "base_uri": "https://localhost:8080/"
        }
      },
      "source": [
        "emlt = list()\n",
        "for x,y in details.items():\n",
        "    for z in y:\n",
        "        if z == '' or z != 'No':\n",
        "            continue\n",
        "        if 20 <= y[1] <= 30:\n",
        "          print(x, y[1])\n",
        "          "
      ],
      "execution_count": null,
      "outputs": [
        {
          "output_type": "stream",
          "text": [
            "Ratchel 24\n",
            "Gillard 21\n"
          ],
          "name": "stdout"
        }
      ]
    },
    {
      "cell_type": "markdown",
      "metadata": {
        "id": "WYb85dXOmWKZ"
      },
      "source": [
        "Q4 - Sort the above dictionary in decreasing order on the basis of their temperatures."
      ]
    },
    {
      "cell_type": "code",
      "metadata": {
        "id": "C75_fuYOmV1i",
        "outputId": "583e99fc-4b2f-4fea-ed52-d636dd95c25f",
        "colab": {
          "base_uri": "https://localhost:8080/"
        }
      },
      "source": [
        "itemBag = list()\n",
        "for x,y in details.items():\n",
        "  itemBag.append(y[2])\n",
        "\n",
        "itemBag.sort(reverse=True)\n",
        "print(itemBag)\n",
        "  \n"
      ],
      "execution_count": 33,
      "outputs": [
        {
          "output_type": "stream",
          "text": [
            "[102, 99, 98, 97, 95]\n"
          ],
          "name": "stdout"
        }
      ]
    },
    {
      "cell_type": "markdown",
      "metadata": {
        "id": "l2NABanfnDvJ"
      },
      "source": [
        "##Q5 - Write a simple python script to accept a string as input, and find those words which appear more than 2 times in the string.\n",
        "\n",
        "E.g. - What profession did Harvard call the Sexiest Job of the 21st Century? That’s right… the data scientist. Ah yes, the ever mysterious data scientist. So what exactly is the data scientist’s secret sauce, and what does this “sexy” person actually do at work every day? This article is intended to help define the data scientist role, including typical skills, qualifications, education, experience, and responsibilities. This definition is somewhat loose since there really isn’t a standardized definition of the data scientist role, and given that the ideal experience and skill set is relatively rare to find in one individual. This definition can be further confused by the fact that there are other roles sometimes thought of as the same, but are often quite different. Some of these include data analyst, data engineer, and so on. More on that later.\n",
        "\n",
        "Output - \n",
        "what\n",
        "the\n",
        "of\n",
        "data\n",
        "is\n",
        "and\n",
        "this\n",
        "definition\n",
        "that"
      ]
    },
    {
      "cell_type": "code",
      "metadata": {
        "id": "ahsM1DCArpfc",
        "outputId": "f7b87e10-cc4c-4156-b154-104553ff6652",
        "colab": {
          "base_uri": "https://localhost:8080/"
        }
      },
      "source": [
        "data = input(\"Enter the string: \\n\")\n",
        "data = data.lower()\n",
        "VS = data.split()\n",
        "Bag = dict()\n",
        "for w in VS:\n",
        "  Bag[w] = Bag.get(w, 0)+1\n",
        "\n",
        "for k,v in Bag.items():\n",
        "  if v>2:\n",
        "    print(k, end=' ')\n",
        "\n",
        "\n",
        "\n"
      ],
      "execution_count": 67,
      "outputs": [
        {
          "output_type": "stream",
          "text": [
            "Enter the string: \n",
            "What profession did Harvard call the Sexiest Job of the 21st Century? That’s right… the data scientist. Ah yes, the ever mysterious data scientist. So what exactly is the data scientist’s secret sauce, and what does this “sexy” person actually do at work every day? This article is intended to help define the data scientist role, including typical skills, qualifications, education, experience, and responsibilities. This definition is somewhat loose since there really isn’t a standardized definition of the data scientist role, and given that the ideal experience and skill set is relatively rare to find in one individual. This definition can be further confused by the fact that there are other roles sometimes thought of as the same, but are often quite different. Some of these include data analyst, data engineer, and so on. More on that later.\n",
            "what the of data is and this definition that "
          ],
          "name": "stdout"
        }
      ]
    }
  ]
}