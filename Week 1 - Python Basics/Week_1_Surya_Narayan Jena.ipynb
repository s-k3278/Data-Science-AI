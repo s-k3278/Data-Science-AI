{
 "cells": [
  {
   "cell_type": "markdown",
   "metadata": {
    "colab_type": "text",
    "id": "view-in-github"
   },
   "source": [
    "<a href=\"https://colab.research.google.com/github/C3Suryansu/Data-Science-AI/blob/main/Week%201%20-%20Python%20Basics/Week_1_Assessment.ipynb\" target=\"_parent\"><img src=\"https://colab.research.google.com/assets/colab-badge.svg\" alt=\"Open In Colab\"/></a>"
   ]
  },
  {
   "cell_type": "markdown",
   "metadata": {
    "id": "cR-dxFx1hb8h"
   },
   "source": [
    "#Using file handling, extract and read data from the data.txt file, and store that in a list."
   ]
  },
  {
   "cell_type": "code",
   "execution_count": 1,
   "metadata": {
    "id": "qefHJlTOd8K2"
   },
   "outputs": [
    {
     "name": "stdout",
     "output_type": "stream",
     "text": [
      "[3, 4, 7, 9, 8, 10, 24, 985, 346, 793, 13, 47, 84, 102, 735, 1]\n"
     ]
    }
   ],
   "source": [
    "f=open(\"data.txt\",\"r\")\n",
    "l=f.readline().split()\n",
    "for i in range(0,len(l)):\n",
    "    l[i]=int(l[i])\n",
    "print(l)"
   ]
  },
  {
   "cell_type": "markdown",
   "metadata": {
    "id": "caXry11fhmWY"
   },
   "source": [
    "Q1 - Find out the mean and median of the data you extracted and stored in the list, without using any libraries."
   ]
  },
  {
   "cell_type": "code",
   "execution_count": 2,
   "metadata": {
    "id": "YWsE7Wwyh1zV"
   },
   "outputs": [
    {
     "name": "stdout",
     "output_type": "stream",
     "text": [
      "[1, 3, 4, 7, 8, 9, 10, 13, 24, 47, 84, 102, 346, 735, 793, 985]\n",
      "198.1875 18.5\n"
     ]
    }
   ],
   "source": [
    "l.sort()\n",
    "print(l)\n",
    "sum=0\n",
    "for i in l:\n",
    "    sum=sum+i\n",
    "mean=sum/len(l)\n",
    "for i in range(len(l)):\n",
    "    if len(l)%2==0:\n",
    "        median=(l[(len(l)//2)-1]+l[len(l)//2])/2\n",
    "    else:\n",
    "        median=l[len(l)//2]\n",
    "print(mean, median)"
   ]
  },
  {
   "cell_type": "markdown",
   "metadata": {
    "id": "tupwxozth2l4"
   },
   "source": [
    "Q2 - Divide the list into 2 separate lists, based on the median. The first list will have all numbers less than the median, and the 2nd list will have all the numbers greater than the median, including the median. Use list slicing to achieve this."
   ]
  },
  {
   "cell_type": "code",
   "execution_count": 3,
   "metadata": {
    "id": "HE2TSNhRiKdY"
   },
   "outputs": [
    {
     "name": "stdout",
     "output_type": "stream",
     "text": [
      "[1, 3, 4, 7, 8, 9, 10, 13]\n",
      "[24, 47, 84, 102, 346, 735, 793, 985]\n"
     ]
    }
   ],
   "source": [
    "l.sort()\n",
    "a=[x for x in l if x < median]\n",
    "b=[x for x in l if x > median]\n",
    "print(a)\n",
    "print(b)"
   ]
  },
  {
   "cell_type": "markdown",
   "metadata": {
    "id": "lvyc83TikMqI"
   },
   "source": [
    "###Given below is a dictionary containing the details of people taking Covid-19 test."
   ]
  },
  {
   "cell_type": "code",
   "execution_count": 4,
   "metadata": {
    "colab": {
     "base_uri": "https://localhost:8080/"
    },
    "id": "Yri_6tcTkMCY",
    "outputId": "8dc2f66e-37f4-4c1a-8e5f-faaa2c32e47d"
   },
   "outputs": [
    {
     "data": {
      "text/plain": [
       "{'Ratchel': ['No', 24, 97],\n",
       " 'Shrek': ['No', 31, 99],\n",
       " 'Gillard': ['No', 21, 98],\n",
       " 'Rea': ['Yes', 23, 102],\n",
       " 'Adam': ['No', 67, 95]}"
      ]
     },
     "execution_count": 4,
     "metadata": {},
     "output_type": "execute_result"
    }
   ],
   "source": [
    "\"\"\"\n",
    "Key - name of the patient\n",
    "Values - array of \n",
    "                1 - Whether the patient has covid-19 or not\n",
    "                2 - The patient's age\n",
    "                3 - The temperature of the patient in Fahrenheit Scale\n",
    "\"\"\"\n",
    "details = {'Ratchel' : ['No', 24, 97], 'Shrek' : ['No', 31, 99], 'Gillard' : ['No', 21, 98], 'Rea' : ['Yes', 23, 102], 'Adam': ['No', 67, 95]}\n",
    "details"
   ]
  },
  {
   "cell_type": "markdown",
   "metadata": {
    "id": "zzyTdWgJl7nq"
   },
   "source": [
    "Q3 - From the above dictionary, list out all the people who don't have Covid-19, as well as their age lies in the range of 20 - 30 years old"
   ]
  },
  {
   "cell_type": "code",
   "execution_count": 5,
   "metadata": {
    "id": "NHIlpRbdlhlP"
   },
   "outputs": [
    {
     "name": "stdout",
     "output_type": "stream",
     "text": [
      "['Ratchel', 'Gillard']\n"
     ]
    }
   ],
   "source": [
    "nc=[x for x,y in details.items() if 20<y[1]<30 and y[0]=='No']\n",
    "print(nc)"
   ]
  },
  {
   "cell_type": "markdown",
   "metadata": {
    "id": "WYb85dXOmWKZ"
   },
   "source": [
    "Q4 - Sort the above dictionary in decreasing order on the basis of their temperatures."
   ]
  },
  {
   "cell_type": "code",
   "execution_count": 6,
   "metadata": {
    "id": "C75_fuYOmV1i"
   },
   "outputs": [
    {
     "name": "stdout",
     "output_type": "stream",
     "text": [
      "{'Rea': ['Yes', 23, 102], 'Shrek': ['No', 31, 99], 'Gillard': ['No', 21, 98], 'Ratchel': ['No', 24, 97], 'Adam': ['No', 67, 95]}\n"
     ]
    }
   ],
   "source": [
    "details=dict(sorted(details.items(),key=lambda x:(x[1][2]),reverse=True))\n",
    "print(details)"
   ]
  },
  {
   "cell_type": "markdown",
   "metadata": {
    "id": "l2NABanfnDvJ"
   },
   "source": [
    "##Q5 - Write a simple python script to accept a string as input, and find those words which appear more than 2 times in the string.\n",
    "\n",
    "E.g. - What profession did Harvard call the Sexiest Job of the 21st Century? That’s right… the data scientist. Ah yes, the ever mysterious data scientist. So what exactly is the data scientist’s secret sauce, and what does this “sexy” person actually do at work every day? This article is intended to help define the data scientist role, including typical skills, qualifications, education, experience, and responsibilities. This definition is somewhat loose since there really isn’t a standardized definition of the data scientist role, and given that the ideal experience and skill set is relatively rare to find in one individual. This definition can be further confused by the fact that there are other roles sometimes thought of as the same, but are often quite different. Some of these include data analyst, data engineer, and so on. More on that later.\n",
    "\n",
    "Output - \n",
    "what\n",
    "the\n",
    "of\n",
    "data\n",
    "is\n",
    "and\n",
    "this\n",
    "definition\n",
    "that"
   ]
  },
  {
   "cell_type": "code",
   "execution_count": 7,
   "metadata": {
    "id": "ahsM1DCArpfc"
   },
   "outputs": [
    {
     "name": "stdout",
     "output_type": "stream",
     "text": [
      "What profession did Harvard call the Sexiest Job of the 21st Century? That’s right… the data scientist. Ah yes, the ever mysterious data scientist. So what exactly is the data scientist’s secret sauce, and what does this “sexy” person actually do at work every day? This article is intended to help define the data scientist role, including typical skills, qualifications, education, experience, and responsibilities. This definition is somewhat loose since there really isn’t a standardized definition of the data scientist role, and given that the ideal experience and skill set is relatively rare to find in one individual. This definition can be further confused by the fact that there are other roles sometimes thought of as the same, but are often quite different. Some of these include data analyst, data engineer, and so on. More on that later.\n"
     ]
    }
   ],
   "source": [
    "s=input().lower().split()\n",
    "i=s\n",
    "a=[]\n",
    "for j in range(0,len(s)):\n",
    "    if i[j]!=\" \" and s.count(i[j]) > 2:\n",
    "        a.append(i[j])\n",
    "        i=[x if x != s[j] else \" \" for x in i]"
   ]
  },
  {
   "cell_type": "code",
   "execution_count": 8,
   "metadata": {},
   "outputs": [
    {
     "name": "stdout",
     "output_type": "stream",
     "text": [
      "what the of data is and this definition that\n"
     ]
    }
   ],
   "source": [
    "print(\" \".join(a))"
   ]
  }
 ],
 "metadata": {
  "colab": {
   "authorship_tag": "ABX9TyM6CsDrppjhTeFcS2s3xd4w",
   "collapsed_sections": [],
   "include_colab_link": true,
   "name": "Week_1_Assessment.ipynb",
   "provenance": []
  },
  "kernelspec": {
   "display_name": "Python 3",
   "language": "python",
   "name": "python3"
  },
  "language_info": {
   "codemirror_mode": {
    "name": "ipython",
    "version": 3
   },
   "file_extension": ".py",
   "mimetype": "text/x-python",
   "name": "python",
   "nbconvert_exporter": "python",
   "pygments_lexer": "ipython3",
   "version": "3.8.3"
  }
 },
 "nbformat": 4,
 "nbformat_minor": 1
}
