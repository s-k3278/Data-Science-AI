{
  "nbformat": 4,
  "nbformat_minor": 0,
  "metadata": {
    "colab": {
      "name": "Week_1_KrantiKumarChoudhury.ipynb",
      "provenance": [],
      "collapsed_sections": []
    },
    "kernelspec": {
      "name": "python3",
      "display_name": "Python 3"
    }
  },
  "cells": [
    {
      "cell_type": "markdown",
      "metadata": {
        "id": "cR-dxFx1hb8h"
      },
      "source": [
        "#Using file handling, extract and read data from the data.txt file, and store that in a list."
      ]
    },
    {
      "cell_type": "code",
      "metadata": {
        "id": "qefHJlTOd8K2",
        "outputId": "76068eaf-7af1-4ff7-c8eb-d513cafaa0af",
        "colab": {
          "base_uri": "https://localhost:8080/"
        }
      },
      "source": [
        "myList=[3, 4, 7, 9, 8, 10, 24, 985, 346, 793, 13, 47, 84, 102, 735, 1]\n",
        "myList\n",
        "\n"
      ],
      "execution_count": null,
      "outputs": [
        {
          "output_type": "execute_result",
          "data": {
            "text/plain": [
              "[3, 4, 7, 9, 8, 10, 24, 985, 346, 793, 13, 47, 84, 102, 735, 1]"
            ]
          },
          "metadata": {
            "tags": []
          },
          "execution_count": 15
        }
      ]
    },
    {
      "cell_type": "markdown",
      "metadata": {
        "id": "caXry11fhmWY"
      },
      "source": [
        "Q1 - Find out the mean and median of the data you extracted and stored in the list, without using any libraries."
      ]
    },
    {
      "cell_type": "code",
      "metadata": {
        "id": "YWsE7Wwyh1zV",
        "outputId": "5531cce0-c72c-45f5-d974-7a48e1fa1f46",
        "colab": {
          "base_uri": "https://localhost:8080/"
        }
      },
      "source": [
        "myList_sum = sum(myList)\n",
        "#divide the sum with length of the list\n",
        "mean = myList_sum / len(myList)\n",
        "print(\"Mean of the above list of numbers is: \" + str(round(mean,2)))\n",
        "# Sort the list\n",
        "myList.sort()\n",
        "# Finding the position of the median\n",
        "if len(myList) % 2 == 0:\n",
        "   first_median = myList[len(myList) // 2]\n",
        "   second_median = myList[len(myList) // 2 - 1]\n",
        "   median = (first_median + second_median) / 2\n",
        "else:\n",
        "   median = myList[len(myList) // 2]\n",
        "print(\"Median of above list is: \" + str(median))"
      ],
      "execution_count": null,
      "outputs": [
        {
          "output_type": "stream",
          "text": [
            "Mean of the above list of numbers is: 198.19\n",
            "Median of above list is: 18.5\n"
          ],
          "name": "stdout"
        }
      ]
    },
    {
      "cell_type": "markdown",
      "metadata": {
        "id": "tupwxozth2l4"
      },
      "source": [
        "Q2 - Divide the list into 2 separate lists, based on the median. The first list will have all numbers less than the median, and the 2nd list will have all the numbers greater than the median, including the median. Use list slicing to achieve this."
      ]
    },
    {
      "cell_type": "code",
      "metadata": {
        "id": "HE2TSNhRiKdY",
        "outputId": "7c984d11-c130-42b1-aba3-4786bef06eaf",
        "colab": {
          "base_uri": "https://localhost:8080/"
        }
      },
      "source": [
        "myList=[3, 4, 7, 9, 8, 10, 24, 985, 346, 793, 13, 47, 84, 102, 735, 1]\n",
        "List=sorted(myList)\n",
        "print(List)\n",
        "print(\"list of numbers less than median is: \"+str(List[0:8]))\n",
        "print(\"list of numbers greater than median is: \"+str(List[8:]))\n"
      ],
      "execution_count": null,
      "outputs": [
        {
          "output_type": "stream",
          "text": [
            "[1, 3, 4, 7, 8, 9, 10, 13, 24, 47, 84, 102, 346, 735, 793, 985]\n",
            "list of numbers less than median is: [1, 3, 4, 7, 8, 9, 10, 13]\n",
            "list of numbers greater than median is: [24, 47, 84, 102, 346, 735, 793, 985]\n"
          ],
          "name": "stdout"
        }
      ]
    },
    {
      "cell_type": "markdown",
      "metadata": {
        "id": "lvyc83TikMqI"
      },
      "source": [
        "###Given below is a dictionary containing the details of people taking Covid-19 test."
      ]
    },
    {
      "cell_type": "code",
      "metadata": {
        "id": "Yri_6tcTkMCY",
        "outputId": "8dc2f66e-37f4-4c1a-8e5f-faaa2c32e47d",
        "colab": {
          "base_uri": "https://localhost:8080/"
        }
      },
      "source": [
        "\"\"\"\n",
        "Key - name of the patient\n",
        "Values - array of \n",
        "                1 - Whether the patient has covid-19 or not\n",
        "                2 - The patient's age\n",
        "                3 - The temperature of the patient in Fahrenheit Scale\n",
        "\"\"\"\n",
        "details = {'Ratchel' : ['No', 24, 97], 'Shrek' : ['No', 31, 99], 'Gillard' : ['No', 21, 98], 'Rea' : ['Yes', 23, 102], 'Adam': ['No', 67, 95]}\n",
        "details"
      ],
      "execution_count": null,
      "outputs": [
        {
          "output_type": "execute_result",
          "data": {
            "text/plain": [
              "{'Adam': ['No', 67, 95],\n",
              " 'Gillard': ['No', 21, 98],\n",
              " 'Ratchel': ['No', 24, 97],\n",
              " 'Rea': ['Yes', 43, 102],\n",
              " 'Shrek': ['No', 31, 99]}"
            ]
          },
          "metadata": {
            "tags": []
          },
          "execution_count": 2
        }
      ]
    },
    {
      "cell_type": "markdown",
      "metadata": {
        "id": "zzyTdWgJl7nq"
      },
      "source": [
        "Q3 - From the above dictionary, list out all the people who don't have Covid-19, as well as their age lies in the range of 20 - 30 years old"
      ]
    },
    {
      "cell_type": "code",
      "metadata": {
        "id": "NHIlpRbdlhlP",
        "outputId": "dc991965-71a5-4042-df27-d48e74dab654",
        "colab": {
          "base_uri": "https://localhost:8080/"
        }
      },
      "source": [
        "for i in details:\n",
        "  if(details[i][0]==\"No\" and (20<details[i][1]<30)):\n",
        "    print(i,details[i])"
      ],
      "execution_count": 2,
      "outputs": [
        {
          "output_type": "stream",
          "text": [
            "Ratchel ['No', 24, 97]\n",
            "Gillard ['No', 21, 98]\n"
          ],
          "name": "stdout"
        }
      ]
    },
    {
      "cell_type": "markdown",
      "metadata": {
        "id": "WYb85dXOmWKZ"
      },
      "source": [
        "Q4 - Sort the above dictionary in decreasing order on the basis of their temperatures."
      ]
    },
    {
      "cell_type": "code",
      "metadata": {
        "id": "C75_fuYOmV1i",
        "outputId": "2c73a892-2b4f-46bb-d607-464aa144e480",
        "colab": {
          "base_uri": "https://localhost:8080/"
        }
      },
      "source": [
        "\n",
        "#details = {'Ratchel' : ['No', 24, 97], 'Shrek' : ['No', 31, 99], 'Gillard' : ['No', 21, 98], 'Rea' : ['Yes', 23, 102], 'Adam': ['No', 67, 95]}\n",
        "#dict1 = dict( sorted(details.items(),\n",
        "                           #key=lambda item:item[1][2],\n",
        "                           #reverse=True))\n",
        "dict2=sorted(details.items(),key=lambda item:item[1][2],reverse=True)\n",
        "print(dict2)\n",
        " \n"
      ],
      "execution_count": 4,
      "outputs": [
        {
          "output_type": "stream",
          "text": [
            "[('Rea', ['Yes', 23, 102]), ('Shrek', ['No', 31, 99]), ('Gillard', ['No', 21, 98]), ('Ratchel', ['No', 24, 97]), ('Adam', ['No', 67, 95])]\n"
          ],
          "name": "stdout"
        }
      ]
    },
    {
      "cell_type": "markdown",
      "metadata": {
        "id": "l2NABanfnDvJ"
      },
      "source": [
        "##Q5 - Write a simple python script to accept a string as input, and find those words which appear more than 2 times in the string.\n",
        "\n",
        "E.g. - What profession did Harvard call the Sexiest Job of the 21st Century? That’s right… the data scientist. Ah yes, the ever mysterious data scientist. So what exactly is the data scientist’s secret sauce, and what does this “sexy” person actually do at work every day? This article is intended to help define the data scientist role, including typical skills, qualifications, education, experience, and responsibilities. This definition is somewhat loose since there really isn’t a standardized definition of the data scientist role, and given that the ideal experience and skill set is relatively rare to find in one individual. This definition can be further confused by the fact that there are other roles sometimes thought of as the same, but are often quite different. Some of these include data analyst, data engineer, and so on. More on that later.\n",
        "\n",
        "Output - \n",
        "what\n",
        "the\n",
        "of\n",
        "data\n",
        "is\n",
        "and\n",
        "this\n",
        "definition\n",
        "that"
      ]
    },
    {
      "cell_type": "code",
      "metadata": {
        "id": "ahsM1DCArpfc",
        "outputId": "8cbe6d6b-5df5-42be-98b7-49297c04b92e",
        "colab": {
          "base_uri": "https://localhost:8080/"
        }
      },
      "source": [
        "#I have written the same script given in the example. \n",
        "\n",
        "def word_count(str):\n",
        "    sentence = dict()\n",
        "    words = str.split()\n",
        "\n",
        "    for i in words:\n",
        "        if i in sentence:\n",
        "            sentence[i] += 1\n",
        "        else:\n",
        "            sentence[i] = 1\n",
        "\n",
        "    #return sentence\n",
        "    for key,value in sentence.items():\n",
        "      if value>2:\n",
        "         print(key)\n",
        "\n",
        "str=\"What profession did Harvard call the Sexiest Job of the 21st Century? That’s right… the data scientist. Ah yes, the ever mysterious data scientist. So what exactly is the data scientist’s secret sauce, and what does this “sexy” person actually do at work every day? This article is intended to help define the data scientist role, including typical skills, qualifications, education, experience, and responsibilities. This definition is somewhat loose since there really isn’t a standardized definition of the data scientist role, and given that the ideal experience and skill set is relatively rare to find in one individual. This definition can be further confused by the fact that there are other roles sometimes thought of as the same, but are often quite different. Some of these include data analyst, data engineer, and so on. More on that later.\"\n",
        "word_count(str)\n"
      ],
      "execution_count": null,
      "outputs": [
        {
          "output_type": "stream",
          "text": [
            "the\n",
            "of\n",
            "data\n",
            "is\n",
            "and\n",
            "This\n",
            "definition\n",
            "that\n"
          ],
          "name": "stdout"
        }
      ]
    },
    {
      "cell_type": "markdown",
      "metadata": {
        "id": "YyvJK8uGvX0J"
      },
      "source": [
        "\n",
        "\n",
        "---\n",
        "\n",
        "\n",
        "\n",
        "---\n",
        "\n",
        "\n",
        "\n",
        "---\n",
        "\n"
      ]
    }
  ]
}
